{
 "cells": [
  {
   "cell_type": "markdown",
   "id": "645bc365",
   "metadata": {},
   "source": [
    "# Matplotlib is python library used for data visualization.\n",
    "Matplotlib is a widely used python data visualization library. It provides many different kinds of 2D and 3D plots that are very useful for data analysis and machine learning tasks"
   ]
  },
  {
   "cell_type": "markdown",
   "id": "9a44ae8c",
   "metadata": {},
   "source": [
    "## Matplotlib contains three layers:\n",
    "#### 1. Back-end layer\n",
    "* This section of Matplotlib covers advanced topics for experienced Matplotlib users and developers.\n",
    "* Back-end layer of matplotlib provides the implementations of three abstract interface classes.\n",
    " 1. FigureCanvas:--Provides area onto which figure is drawn.\n",
    "     * __matplotlib.backend_bases.FigureCanvas__\n",
    " 2. Renderer:-- It does drawing on FigureCanvas.Instance of Renderer knows how to draw on the FigureCanvas.\n",
    "     * __matplotlib.backend_bases.Renderer__\n",
    " 3. Event:-- Instance of Event handles user input like keystrokes, mouse clicks.\n",
    "     * __matplotlib.backend_bases.Event__\n",
    "\n",
    "\n",
    "#### 2. Artist layer\n",
    "* This section covers some of the more complicated classes and functions in Matplotlib.\n",
    "* Artist layer comprised of one object known as Artist.\n",
    "* FigureCanvas from back-end layer is paper, artist object knows how to use Renderer object to draw on canvas.\n",
    "* Everything we see on matplotlib figure is an instance of Artist. Example: title,lines,labels,images etc.\n",
    "* There are two types of Artist object:\n",
    "\n",
    "    1. Primitive :\n",
    "     *  Line2D, Rectangle, Circle , text.\n",
    "\n",
    "    2. Composite:\n",
    "     *  Axis,Axes,Tick, and figure.\n",
    "\n",
    "#### 3. Scripting layer\n",
    "    * matplotlib.pyplot\n",
    "* This section conatains basic of data visualisaton with Matplotlib. \n",
    "* Matplotlib provides lighter scripting interface to simplify common task .\n",
    "* Scripting layer composed mainly of pyplot, a lighter interface.\n",
    "\n",
    "So in this notebook we will be learning this layer mostly."
   ]
  },
  {
   "cell_type": "markdown",
   "id": "31706c47",
   "metadata": {},
   "source": [
    "#### How to import matplotlib\n",
    "**Example** - __Matplotlib__ is a package, essentially a collection of related modules. At its simplest, a package can be just a directory containing the module files with an empty (__init__).py file that tells python that the directory is to be treated as a package. A module B within package A (i.e. in the file structure A/B.py is imported as import A.B."
   ]
  },
  {
   "cell_type": "code",
   "execution_count": 1,
   "id": "dbb50355",
   "metadata": {},
   "outputs": [],
   "source": [
    "from matplotlib import pyplot as plt\n",
    "import matplotlib.pyplot as plt1"
   ]
  },
  {
   "cell_type": "markdown",
   "id": "66d09f89",
   "metadata": {},
   "source": [
    "Which one is correct?"
   ]
  },
  {
   "cell_type": "code",
   "execution_count": 2,
   "id": "d4373bd1",
   "metadata": {},
   "outputs": [
    {
     "name": "stdout",
     "output_type": "stream",
     "text": [
      "True\n"
     ]
    }
   ],
   "source": [
    "print(dir(plt) == dir(plt1))"
   ]
  },
  {
   "cell_type": "markdown",
   "id": "a96a63ad",
   "metadata": {},
   "source": [
    "Both are same. So you can use any one of them.\n",
    "\n",
    "With matplotlib library you can plot various types of plot. Few of them are\n",
    "* Bar chart, Histogram, Scatter plot, Pie plot, Area chart, etc."
   ]
  }
 ],
 "metadata": {
  "kernelspec": {
   "display_name": "Python 3 (ipykernel)",
   "language": "python",
   "name": "python3"
  },
  "language_info": {
   "codemirror_mode": {
    "name": "ipython",
    "version": 3
   },
   "file_extension": ".py",
   "mimetype": "text/x-python",
   "name": "python",
   "nbconvert_exporter": "python",
   "pygments_lexer": "ipython3",
   "version": "3.9.7"
  }
 },
 "nbformat": 4,
 "nbformat_minor": 5
}
